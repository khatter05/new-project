{
 "cells": [
  {
   "cell_type": "code",
   "execution_count": 1,
   "id": "071402b5",
   "metadata": {},
   "outputs": [],
   "source": [
    "streamlit_code101 = \"\"\"\n",
    "import streamlit as st\n",
    "import pandas as pd\n",
    "import requests\n",
    "\n",
    "API_KEY = \"4ZQGSP8LFUKGVIIR\"\n",
    "\n",
    "symbol = st.text_input('Enter stock symbol:', 'IBM').upper()\n",
    "\n",
    "url = f\"https://www.alphavantage.co/query?function=TIME_SERIES_DAILY&symbol={symbol}&apikey={API_KEY}\"\n",
    "\n",
    "r = requests.get(url, timeout=5)\n",
    "data = r.json()\n",
    "\n",
    "information = data['Meta Data']['1. Information']\n",
    "symbol = data['Meta Data']['2. Symbol']\n",
    "last_refreshed = data['Meta Data']['3. Last Refreshed']\n",
    "\n",
    "\n",
    "st.write('# Alpha Vantage stock price data')\n",
    "st.write('## ' + information)\n",
    "st.write('### ' + symbol)\n",
    "st.write('### Last update: ' + last_refreshed)\n",
    "\n",
    "st.write('## Time Series (Daily)')\n",
    "\n",
    "df = pd.DataFrame.from_dict(data['Time Series (Daily)'], orient='index')\n",
    "\n",
    "df = df.reset_index()\n",
    "df.columns = ['date', 'open', 'high', 'low', 'close', 'volume']\n",
    "\n",
    "df['open'] = df['open'].astype(float)\n",
    "df['high'] = df['high'].astype(float)\n",
    "df['low'] = df['low'].astype(float)\n",
    "df['close'] = df['close'].astype(float)\n",
    "df['volume'] = df['volume'].astype(int)\n",
    "\n",
    "df['date'] = pd.to_datetime(df['date'])\n",
    "df = df.sort_values(by='date')\n",
    "\n",
    "st.line_chart(df.set_index('date')[['open', 'high', 'low', 'close']])\n",
    "st.bar_chart(df.set_index('date')['volume'])\n",
    "\"\"\""
   ]
  },
  {
   "cell_type": "code",
   "execution_count": 4,
   "id": "8afe34b6",
   "metadata": {},
   "outputs": [],
   "source": [
    "API_KEY = \"4ZQGSP8LFUKGVIIR\""
   ]
  },
  {
   "cell_type": "code",
   "execution_count": 6,
   "id": "c50cf7bc",
   "metadata": {},
   "outputs": [
    {
     "name": "stderr",
     "output_type": "stream",
     "text": [
      "2024-05-21 18:26:42.821 WARNING streamlit.runtime.state.session_state_proxy: Session state does not function when running a script without `streamlit run`\n",
      "2024-05-21 18:26:43.011 \n",
      "  \u001b[33m\u001b[1mWarning:\u001b[0m to view this Streamlit app on a browser, run it with the following\n",
      "  command:\n",
      "\n",
      "    streamlit run C:\\Users\\sanje\\anaconda3\\Lib\\site-packages\\ipykernel_launcher.py [ARGUMENTS]\n"
     ]
    }
   ],
   "source": [
    "symbol = st.text_input('Enter stock symbol:', 'IBM').upper()"
   ]
  },
  {
   "cell_type": "code",
   "execution_count": 7,
   "id": "688004ee",
   "metadata": {},
   "outputs": [],
   "source": [
    "url = f\"https://www.alphavantage.co/query?function=TIME_SERIES_DAILY&symbol={symbol}&apikey={API_KEY}\"\n"
   ]
  },
  {
   "cell_type": "code",
   "execution_count": 8,
   "id": "2f142f24",
   "metadata": {},
   "outputs": [],
   "source": [
    "r = requests.get(url, timeout=5)\n",
    "data = r.json()"
   ]
  },
  {
   "cell_type": "code",
   "execution_count": 9,
   "id": "1585a9ef",
   "metadata": {},
   "outputs": [],
   "source": [
    "information = data['Meta Data']['1. Information']\n",
    "symbol = data['Meta Data']['2. Symbol']\n",
    "last_refreshed = data['Meta Data']['3. Last Refreshed']\n"
   ]
  },
  {
   "cell_type": "code",
   "execution_count": 10,
   "id": "eef13fba",
   "metadata": {},
   "outputs": [],
   "source": [
    "st.write('# Alpha Vantage stock price data')\n",
    "st.write('## ' + information)\n",
    "st.write('### ' + symbol)\n",
    "st.write('### Last update: ' + last_refreshed)\n",
    "\n",
    "st.write('## Time Series (Daily)')\n"
   ]
  },
  {
   "cell_type": "code",
   "execution_count": 11,
   "id": "342a085f",
   "metadata": {},
   "outputs": [],
   "source": [
    "df = pd.DataFrame.from_dict(data['Time Series (Daily)'], orient='index')\n",
    "\n",
    "df = df.reset_index()\n",
    "df.columns = ['date', 'open', 'high', 'low', 'close', 'volume']\n",
    "\n",
    "df['open'] = df['open'].astype(float)\n",
    "df['high'] = df['high'].astype(float)\n",
    "df['low'] = df['low'].astype(float)\n",
    "df['close'] = df['close'].astype(float)\n",
    "df['volume'] = df['volume'].astype(int)\n",
    "\n",
    "df['date'] = pd.to_datetime(df['date'])\n",
    "df = df.sort_values(by='date')"
   ]
  },
  {
   "cell_type": "code",
   "execution_count": 12,
   "id": "597c843b",
   "metadata": {},
   "outputs": [
    {
     "data": {
      "text/plain": [
       "DeltaGenerator()"
      ]
     },
     "execution_count": 12,
     "metadata": {},
     "output_type": "execute_result"
    }
   ],
   "source": [
    "st.line_chart(df.set_index('date')[['open', 'high', 'low', 'close']])\n",
    "st.bar_chart(df.set_index('date')['volume'])"
   ]
  },
  {
   "cell_type": "code",
   "execution_count": null,
   "id": "33466fe5",
   "metadata": {},
   "outputs": [],
   "source": []
  },
  {
   "cell_type": "code",
   "execution_count": 14,
   "id": "f99a6386",
   "metadata": {},
   "outputs": [],
   "source": [
    "streamlit_code = \"\"\"\n",
    "import streamlit as st\n",
    "\n",
    "st.title('Hello Streamlit from Jupyter Notebook!')\n",
    "st.write('This is a Streamlit app running from a Jupyter Notebook.')\n",
    "\"\"\"\n"
   ]
  },
  {
   "cell_type": "code",
   "execution_count": 2,
   "id": "6a78327f",
   "metadata": {},
   "outputs": [],
   "source": [
    "# Write the Streamlit code to a temporary file\n",
    "with open('app.py', 'w') as f:\n",
    "    f.write(streamlit_code101)\n"
   ]
  },
  {
   "cell_type": "code",
   "execution_count": 16,
   "id": "200f48ab",
   "metadata": {},
   "outputs": [
    {
     "data": {
      "text/html": [
       "<a href='http://localhost:8501' target='_blank'>Open Streamlit App</a>"
      ],
      "text/plain": [
       "<IPython.core.display.HTML object>"
      ]
     },
     "metadata": {},
     "output_type": "display_data"
    }
   ],
   "source": [
    "from IPython.display import display, HTML\n",
    "import subprocess\n",
    "\n",
    "# Write the Streamlit code to a temporary file\n",
    "with open('temp_streamlit_app.py', 'w') as f:\n",
    "    f.write(streamlit_code)\n",
    "\n",
    "# Start the Streamlit app\n",
    "process = subprocess.Popen(['streamlit', 'run', 'temp_streamlit_app.py'])\n",
    "\n",
    "# Display the link to the Streamlit app\n",
    "display(HTML(\"<a href='http://localhost:8501' target='_blank'>Open Streamlit App</a>\"))\n"
   ]
  },
  {
   "cell_type": "code",
   "execution_count": 1,
   "id": "4ef3827f",
   "metadata": {},
   "outputs": [
    {
     "name": "stderr",
     "output_type": "stream",
     "text": [
      "'wget' is not recognized as an internal or external command,\n",
      "operable program or batch file.\n"
     ]
    }
   ],
   "source": [
    "!wget -q -O - ipv4.icanhazip.com"
   ]
  },
  {
   "cell_type": "code",
   "execution_count": 1,
   "id": "7fb0deba",
   "metadata": {},
   "outputs": [
    {
     "name": "stdout",
     "output_type": "stream",
     "text": [
      "Streamlit, version 1.34.0\n"
     ]
    }
   ],
   "source": [
    "!streamlit --version"
   ]
  },
  {
   "cell_type": "code",
   "execution_count": 3,
   "id": "afcfe77f",
   "metadata": {},
   "outputs": [
    {
     "name": "stdout",
     "output_type": "stream",
     "text": [
      "^C\n"
     ]
    }
   ],
   "source": [
    "# Run the Streamlit app\n",
    "!streamlit run temp_streamlit_app.py & npx localtunnel --port 8501\n"
   ]
  },
  {
   "cell_type": "code",
   "execution_count": 2,
   "id": "a0544abc",
   "metadata": {},
   "outputs": [
    {
     "name": "stdout",
     "output_type": "stream",
     "text": [
      "223.178.209.121\n"
     ]
    }
   ],
   "source": [
    "import requests\n",
    "\n",
    "response = requests.get('https://ipv4.icanhazip.com')\n",
    "print(response.text.strip())\n"
   ]
  },
  {
   "cell_type": "code",
   "execution_count": null,
   "id": "98794e0b",
   "metadata": {},
   "outputs": [],
   "source": [
    "!streamlit hello"
   ]
  },
  {
   "cell_type": "code",
   "execution_count": 1,
   "id": "04ab0ca9",
   "metadata": {},
   "outputs": [
    {
     "name": "stdout",
     "output_type": "stream",
     "text": [
      "Streamlit, version 1.34.0\n"
     ]
    }
   ],
   "source": [
    "!streamlit --version"
   ]
  },
  {
   "cell_type": "code",
   "execution_count": null,
   "id": "6e1b8a89",
   "metadata": {},
   "outputs": [],
   "source": []
  },
  {
   "cell_type": "code",
   "execution_count": null,
   "id": "0d45d2db",
   "metadata": {},
   "outputs": [],
   "source": []
  }
 ],
 "metadata": {
  "kernelspec": {
   "display_name": "Python 3 (ipykernel)",
   "language": "python",
   "name": "python3"
  },
  "language_info": {
   "codemirror_mode": {
    "name": "ipython",
    "version": 3
   },
   "file_extension": ".py",
   "mimetype": "text/x-python",
   "name": "python",
   "nbconvert_exporter": "python",
   "pygments_lexer": "ipython3",
   "version": "3.11.5"
  }
 },
 "nbformat": 4,
 "nbformat_minor": 5
}
