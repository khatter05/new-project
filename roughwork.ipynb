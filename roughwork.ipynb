{
 "cells": [
  {
   "cell_type": "code",
   "execution_count": 1,
   "id": "dfddca18",
   "metadata": {},
   "outputs": [],
   "source": [
    "import pandas as pd\n",
    "import yfinance as yf\n",
    "import numpy as np\n",
    "import matplotlib.pyplot as plt\n",
    "import ta"
   ]
  },
  {
   "cell_type": "code",
   "execution_count": 2,
   "id": "3ae545b2",
   "metadata": {},
   "outputs": [],
   "source": [
    "df_yahoo = yf.download('AAPL',\n",
    "                       start='2000-01-01',\n",
    "                       end='2010-12-31',\n",
    "                       progress=False)"
   ]
  },
  {
   "cell_type": "code",
   "execution_count": 3,
   "id": "d43e328f",
   "metadata": {},
   "outputs": [],
   "source": [
    "#df_yahoo = df_yahoo.loc[:, ['Adj Close']]\n",
    "df_yahoo.rename(columns={'Adj Close':'adj_close'}, inplace=True)"
   ]
  },
  {
   "cell_type": "code",
   "execution_count": 4,
   "id": "7419e500",
   "metadata": {},
   "outputs": [],
   "source": [
    "#df_yahoo['simple_rtn'] = df_yahoo.adj_close.pct_change()\n",
    "df_yahoo['log_rtn'] = np.log(df_yahoo.adj_close/df_yahoo.adj_close.shift(1))"
   ]
  },
  {
   "cell_type": "code",
   "execution_count": 5,
   "id": "62c743f5",
   "metadata": {},
   "outputs": [],
   "source": [
    "def featureEngineering(df):\n",
    "    df_copy=df.copy()\n",
    "    df_copy[\"returns\"]=df_copy[\"adj_close\"].pct_change(1)\n",
    "    # SMA\n",
    "    df_copy[\"SMA15\"]=df_copy[[\"adj_close\"]].rolling(15).mean().shift(1)\n",
    "    df_copy[\"SMA60\"]=df_copy[[\"adj_close\"]].rolling(60).mean().shift(1)\n",
    "    #votalities\n",
    "    df_copy[\"MSD10\"]=df_copy[[\"adj_close\"]].rolling(10).std().shift(1)\n",
    "    df_copy[\"MSD30\"]=df_copy[[\"adj_close\"]].rolling(30).std().shift(1)\n",
    "    #RSI\n",
    "    RSI=ta.momentum.RSIIndicator(df_copy[\"adj_close\"],fillna=False)\n",
    "    df[\"RSI\"]=RSI.rsi()\n",
    "    return df_copy"
   ]
  },
  {
   "cell_type": "code",
   "execution_count": 7,
   "id": "5dc166dd",
   "metadata": {},
   "outputs": [],
   "source": [
    "dff=featureEngineering(df_yahoo)"
   ]
  },
  {
   "cell_type": "code",
   "execution_count": null,
   "id": "3ec7da5c",
   "metadata": {},
   "outputs": [],
   "source": []
  },
  {
   "cell_type": "code",
   "execution_count": null,
   "id": "88b9b4ba",
   "metadata": {},
   "outputs": [],
   "source": []
  }
 ],
 "metadata": {
  "kernelspec": {
   "display_name": "Python 3 (ipykernel)",
   "language": "python",
   "name": "python3"
  },
  "language_info": {
   "codemirror_mode": {
    "name": "ipython",
    "version": 3
   },
   "file_extension": ".py",
   "mimetype": "text/x-python",
   "name": "python",
   "nbconvert_exporter": "python",
   "pygments_lexer": "ipython3",
   "version": "3.11.5"
  }
 },
 "nbformat": 4,
 "nbformat_minor": 5
}
